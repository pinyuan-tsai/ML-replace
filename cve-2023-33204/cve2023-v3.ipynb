{
 "cells": [
  {
   "cell_type": "code",
   "execution_count": 1,
   "metadata": {},
   "outputs": [
    {
     "name": "stderr",
     "output_type": "stream",
     "text": [
      "2024-02-21 14:33:46.650906: I tensorflow/core/platform/cpu_feature_guard.cc:193] This TensorFlow binary is optimized with oneAPI Deep Neural Network Library (oneDNN) to use the following CPU instructions in performance-critical operations:  AVX2 FMA\n",
      "To enable them in other operations, rebuild TensorFlow with the appropriate compiler flags.\n",
      "2024-02-21 14:33:46.755361: E tensorflow/stream_executor/cuda/cuda_blas.cc:2981] Unable to register cuBLAS factory: Attempting to register factory for plugin cuBLAS when one has already been registered\n",
      "2024-02-21 14:33:47.146225: W tensorflow/stream_executor/platform/default/dso_loader.cc:64] Could not load dynamic library 'libnvinfer.so.7'; dlerror: libnvinfer.so.7: cannot open shared object file: No such file or directory; LD_LIBRARY_PATH: /usr/local/cuda-11.2/lib64:\n",
      "2024-02-21 14:33:47.146289: W tensorflow/stream_executor/platform/default/dso_loader.cc:64] Could not load dynamic library 'libnvinfer_plugin.so.7'; dlerror: libnvinfer_plugin.so.7: cannot open shared object file: No such file or directory; LD_LIBRARY_PATH: /usr/local/cuda-11.2/lib64:\n",
      "2024-02-21 14:33:47.146295: W tensorflow/compiler/tf2tensorrt/utils/py_utils.cc:38] TF-TRT Warning: Cannot dlopen some TensorRT libraries. If you would like to use Nvidia GPU with TensorRT, please make sure the missing libraries mentioned above are installed properly.\n"
     ]
    }
   ],
   "source": [
    "import tensorflow as tf\n",
    "from tensorflow.keras.models import Sequential\n",
    "from tensorflow.keras.layers import Dense\n",
    "import numpy as np\n",
    "\n"
   ]
  },
  {
   "cell_type": "code",
   "execution_count": null,
   "metadata": {},
   "outputs": [],
   "source": [
    "# 生成1000000筆訓練資料\n",
    "#method 1 to generate data\n",
    "low1 = 1\n",
    "high1 = 2000\n",
    "low2 = 2000\n",
    "high2 = 4294967295\n",
    "num_samples = 1000000\n",
    "num_samples1 =int(1000000 * 0.5)\n",
    "num_samples2 = int(1000000 * 0.5)\n",
    "# 生成隨機整數資料，範圍為 [1, 1000]\n",
    "#data = np.random.randint(1, 10000, size=(num_samples, 3))\n",
    "samples1 = np.random.uniform(low1, high1, size=(num_samples1, 3))\n",
    "samples2 = np.random.uniform(low2, high2, size=(num_samples2, 3))\n",
    "#print(samples1)\n",
    "#print(samples2)\n",
    "data = np.concatenate((samples1, samples2))\n",
    "#print(data)\n",
    "# 生成標籤，判斷三個整數相乘是否大於4294967295\n",
    "print(np.prod(data, axis=1))\n",
    "labels = ((np.prod(data, axis=1) < 0) | (np.prod(data, axis=1) > 4294967295)).astype(int)\n",
    "print(labels)"
   ]
  },
  {
   "cell_type": "code",
   "execution_count": 93,
   "metadata": {},
   "outputs": [
    {
     "name": "stdout",
     "output_type": "stream",
     "text": [
      "[[1.23299266e+03 1.63176648e+03 1.17908793e+09]\n",
      " [1.14029799e+03 1.65098462e+03 3.97776976e+08]\n",
      " [1.80059120e+03 1.06836339e+03 2.09888422e+09]\n",
      " ...\n",
      " [1.38625710e+03 1.76538961e+03 1.30326788e+06]\n",
      " [1.37185533e+03 7.85095836e+02 1.97399646e+05]\n",
      " [9.64920963e+02 4.43799839e+02 1.19754109e+06]]\n",
      "[[1.17908793e+09 1.63176648e+03 1.23299266e+03]\n",
      " [3.97776976e+08 1.65098462e+03 1.14029799e+03]\n",
      " [2.09888422e+09 1.80059120e+03 1.06836339e+03]\n",
      " ...\n",
      " [1.30326788e+06 1.76538961e+03 1.38625710e+03]\n",
      " [1.97399646e+05 1.37185533e+03 7.85095836e+02]\n",
      " [1.19754109e+06 9.64920963e+02 4.43799839e+02]]\n"
     ]
    }
   ],
   "source": [
    "#method 2 to generate data\n",
    "num_samples = 10000000\n",
    "first1 = np.random.uniform(1, 2000, size=num_samples)\n",
    "first2 = np.random.uniform(1, 2000, size=num_samples)\n",
    "first3_1 = np.random.uniform(1, 4294967295, size=int(num_samples*0.2))\n",
    "first3_2 = np.random.uniform(1, 2000, size=int(num_samples*0.4))\n",
    "first3_3 = np.random.uniform(1, 2000000, size=int(num_samples*0.4))\n",
    "first3 = np.concatenate((first3_1, first3_2, first3_3))\n",
    "\n",
    "data = np.column_stack((first1, first2, first3))\n",
    "\n",
    "\n",
    "print(data)\n",
    "# 對每個樣本中的三個數字進行排序（從大到小）\n",
    "data = np.sort(data, axis=-1)[:, ::-1]\n",
    "\n",
    "# 打印排序後的數據\n",
    "print(data)"
   ]
  },
  {
   "cell_type": "code",
   "execution_count": 2,
   "metadata": {},
   "outputs": [],
   "source": [
    "#method 3 to generate data\n",
    "import math\n",
    "import random\n",
    "num_samples = 10000000\n",
    "data = []\n",
    "for i in range(0,num_samples):\n",
    "        ratio1 = random.randint(1,10)\n",
    "        ratio2 = random.randint(1,10)\n",
    "        ratio3 = random.randint(1,10)\n",
    "        int1 = random.randint(1,10**ratio1)\n",
    "        int2 = random.randint(1,10**ratio2)\n",
    "        int3 = random.randint(1,10**ratio3)\n",
    "        data +=[[int1,int2,int3]]\n",
    "        #result3 +=[[int(math.log10(int1)+1) + int(math.log10(int2)+1) +int(math.log10(int3)+1)]]\n",
    "        #result2 +=[[int1*int2*int3]]\n",
    "        #int1 = int1/10**int(math.log10(int1)+1)\n",
    "        #int2 = int2/10**int(math.log10(int2)+1)\n",
    "        #int3 = int3/10**int(math.log10(int3)+1)\n",
    "        #result1 +=[[int1,int2,int3]]"
   ]
  },
  {
   "cell_type": "code",
   "execution_count": 3,
   "metadata": {},
   "outputs": [
    {
     "name": "stdout",
     "output_type": "stream",
     "text": [
      "[[ 472960840      45751        823]\n",
      " [   4608856     223253          1]\n",
      " [    298654        787        200]\n",
      " ...\n",
      " [      7790         93         52]\n",
      " [5655175641      47302      15270]\n",
      " [4813764265 1750834038    7133302]]\n"
     ]
    }
   ],
   "source": [
    "data = np.sort(data, axis=-1)[:, ::-1]\n",
    "print(data)"
   ]
  },
  {
   "cell_type": "code",
   "execution_count": 4,
   "metadata": {},
   "outputs": [
    {
     "name": "stdout",
     "output_type": "stream",
     "text": [
      "[   17808429034661320        1028940928568          47008139600 ...\n",
      "             37672440  4084742074464787140 -8706980340420357628]\n",
      "[1 1 1 ... 0 1 1]\n",
      "1390442\n"
     ]
    }
   ],
   "source": [
    "print(np.prod(data, axis=1))\n",
    "labels = ((np.prod(data, axis=1) < 0) | (np.prod(data, axis=1) > 4294967295)).astype(int)\n",
    "print(labels)\n",
    "print(np.count_nonzero(labels == 0))"
   ]
  },
  {
   "cell_type": "code",
   "execution_count": 5,
   "metadata": {},
   "outputs": [
    {
     "name": "stdout",
     "output_type": "stream",
     "text": [
      "(8000000, 3) (2000000, 3) (8000000,) (2000000,)\n"
     ]
    }
   ],
   "source": [
    "from sklearn.model_selection import train_test_split\n",
    "from sklearn.preprocessing import MinMaxScaler\n",
    "X_train, X_test, y_train, y_test = train_test_split(data, labels, test_size=0.2, random_state=42)\n",
    "print(X_train.shape, X_test.shape, y_train.shape, y_test.shape)"
   ]
  },
  {
   "cell_type": "code",
   "execution_count": 6,
   "metadata": {},
   "outputs": [],
   "source": [
    "# 輸入數據標準化\n",
    "max_value = 4294967295\n",
    "X_train_normalized = X_train / max_value\n",
    "X_test_normalized = X_test / max_value"
   ]
  },
  {
   "cell_type": "code",
   "execution_count": 13,
   "metadata": {},
   "outputs": [
    {
     "name": "stdout",
     "output_type": "stream",
     "text": [
      "Model: \"sequential_3\"\n",
      "_________________________________________________________________\n",
      " Layer (type)                Output Shape              Param #   \n",
      "=================================================================\n",
      " dense_11 (Dense)            (None, 1000)              4000      \n",
      "                                                                 \n",
      " dense_12 (Dense)            (None, 500)               500500    \n",
      "                                                                 \n",
      " dense_13 (Dense)            (None, 250)               125250    \n",
      "                                                                 \n",
      " dense_14 (Dense)            (None, 1)                 251       \n",
      "                                                                 \n",
      "=================================================================\n",
      "Total params: 630,001\n",
      "Trainable params: 630,001\n",
      "Non-trainable params: 0\n",
      "_________________________________________________________________\n"
     ]
    }
   ],
   "source": [
    "from tensorflow.keras import layers, models\n",
    "# 定義神經網絡模型\n",
    "model = models.Sequential()\n",
    "\n",
    "# 輸入層\n",
    "model.add(layers.InputLayer(input_shape=(3,)))\n",
    "\n",
    "# 全連接層 (Dense Layer)\n",
    "model.add(layers.Dense(1000, activation='relu'))\n",
    "model.add(layers.Dense(500, activation='relu'))\n",
    "model.add(layers.Dense(250, activation='relu'))\n",
    "# 輸出層\n",
    "model.add(layers.Dense(1, activation='sigmoid'))\n",
    "\n",
    "# 編譯模型\n",
    "model.compile(optimizer='adam', loss='binary_crossentropy', metrics=['accuracy'])\n",
    "\n",
    "# 打印模型摘要\n",
    "model.summary()"
   ]
  },
  {
   "cell_type": "code",
   "execution_count": 14,
   "metadata": {},
   "outputs": [
    {
     "name": "stdout",
     "output_type": "stream",
     "text": [
      "Epoch 1/10\n",
      "125000/125000 [==============================] - 214s 2ms/step - loss: 0.1760 - accuracy: 0.9239\n",
      "Epoch 2/10\n",
      "125000/125000 [==============================] - 208s 2ms/step - loss: 0.1513 - accuracy: 0.9362\n",
      "Epoch 3/10\n",
      "125000/125000 [==============================] - 211s 2ms/step - loss: 0.1406 - accuracy: 0.9398\n",
      "Epoch 4/10\n",
      "125000/125000 [==============================] - 210s 2ms/step - loss: 0.1336 - accuracy: 0.9422\n",
      "Epoch 5/10\n",
      "125000/125000 [==============================] - 189s 2ms/step - loss: 0.1288 - accuracy: 0.9438\n",
      "Epoch 6/10\n",
      "125000/125000 [==============================] - 178s 1ms/step - loss: 0.1232 - accuracy: 0.9460\n",
      "Epoch 7/10\n",
      "125000/125000 [==============================] - 177s 1ms/step - loss: 0.1204 - accuracy: 0.9471\n",
      "Epoch 8/10\n",
      "125000/125000 [==============================] - 181s 1ms/step - loss: 0.1162 - accuracy: 0.9489\n",
      "Epoch 9/10\n",
      "125000/125000 [==============================] - 181s 1ms/step - loss: 0.1150 - accuracy: 0.9494\n",
      "Epoch 10/10\n",
      "125000/125000 [==============================] - 194s 2ms/step - loss: 0.1123 - accuracy: 0.9504\n"
     ]
    },
    {
     "data": {
      "text/plain": [
       "<keras.callbacks.History at 0x7fa8e40d34c0>"
      ]
     },
     "execution_count": 14,
     "metadata": {},
     "output_type": "execute_result"
    }
   ],
   "source": [
    "model.fit(X_train_normalized, y_train, epochs=10, batch_size=64)"
   ]
  },
  {
   "cell_type": "code",
   "execution_count": 15,
   "metadata": {},
   "outputs": [
    {
     "name": "stdout",
     "output_type": "stream",
     "text": [
      "62500/62500 - 67s - loss: 0.0980 - accuracy: 0.9568 - 67s/epoch - 1ms/step\n",
      "Test accuracy: 0.9567769765853882\n"
     ]
    }
   ],
   "source": [
    "test_loss, test_acc = model.evaluate(X_test_normalized, y_test, verbose=2)\n",
    "print('Test accuracy:', test_acc)"
   ]
  },
  {
   "cell_type": "code",
   "execution_count": 19,
   "metadata": {},
   "outputs": [],
   "source": [
    "# 生成隨機整數資料，範圍為 [1, 1000]\n",
    "data_test = np.random.randint(1, 4294967295, size=(1000000, 3))\n",
    "data_test = np.sort(data_test, axis=-1)[:, ::-1]\n",
    "# 生成標籤，判斷三個整數相乘是否大於4294967295\n",
    "output = ((np.prod(data_test, axis=1) < 0) | (np.prod(data_test, axis=1) > 4294967295)).astype(int)\n",
    "data_test_normalized = data_test / 4294967295\n"
   ]
  },
  {
   "cell_type": "code",
   "execution_count": 20,
   "metadata": {},
   "outputs": [
    {
     "name": "stdout",
     "output_type": "stream",
     "text": [
      "31250/31250 [==============================] - 29s 931us/step\n",
      "Accuracy: 100.000000\n",
      "1000000\n"
     ]
    }
   ],
   "source": [
    "# 預測\n",
    "predictions = model.predict(data_test_normalized)\n",
    "correct = 0\n",
    "for i in range(len(predictions)):\n",
    "    if(predictions[i] > 0.5):\n",
    "        predictions[i] = 1\n",
    "    else:\n",
    "        predictions[i] = 0\n",
    "\n",
    "    if predictions[i] == output[i]:\n",
    "        correct += 1\n",
    "    else:\n",
    "        print(data_test[i],output[i],predictions[i])\n",
    "print('Accuracy: %f' % ((correct / float(len(predictions))) * 100.0))\n",
    "print(correct)\n"
   ]
  },
  {
   "cell_type": "code",
   "execution_count": 26,
   "metadata": {},
   "outputs": [
    {
     "name": "stdout",
     "output_type": "stream",
     "text": [
      "[1]\n",
      "[[1.00871548e-05 3.08034942e-07 2.86847353e-07]]\n",
      "1/1 [==============================] - 0s 15ms/step\n",
      "[[0.12883817]]\n"
     ]
    }
   ],
   "source": [
    "input = np.array([[43324,1323,1232]])\n",
    "np.sort(input, axis=-1)[:, ::-1]\n",
    "print(  ((np.prod(input, axis=1) < 0) | (np.prod(input, axis=1) > 4294967295)).astype(int))\n",
    "input_normalized = input / 4294967295\n",
    "print(input_normalized)\n",
    "print(model.predict(input_normalized))\n"
   ]
  },
  {
   "cell_type": "code",
   "execution_count": 27,
   "metadata": {},
   "outputs": [],
   "source": [
    "model.save('CVE2023-v3.h5')\n"
   ]
  }
 ],
 "metadata": {
  "kernelspec": {
   "display_name": "tf",
   "language": "python",
   "name": "python3"
  },
  "language_info": {
   "codemirror_mode": {
    "name": "ipython",
    "version": 3
   },
   "file_extension": ".py",
   "mimetype": "text/x-python",
   "name": "python",
   "nbconvert_exporter": "python",
   "pygments_lexer": "ipython3",
   "version": "3.9.17"
  }
 },
 "nbformat": 4,
 "nbformat_minor": 2
}
