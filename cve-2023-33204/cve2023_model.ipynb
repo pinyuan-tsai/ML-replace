{
 "cells": [
  {
   "cell_type": "code",
   "execution_count": 1,
   "metadata": {},
   "outputs": [
    {
     "name": "stderr",
     "output_type": "stream",
     "text": [
      "2024-02-21 15:26:34.248845: I tensorflow/core/platform/cpu_feature_guard.cc:193] This TensorFlow binary is optimized with oneAPI Deep Neural Network Library (oneDNN) to use the following CPU instructions in performance-critical operations:  AVX2 FMA\n",
      "To enable them in other operations, rebuild TensorFlow with the appropriate compiler flags.\n",
      "2024-02-21 15:26:34.352495: E tensorflow/stream_executor/cuda/cuda_blas.cc:2981] Unable to register cuBLAS factory: Attempting to register factory for plugin cuBLAS when one has already been registered\n",
      "2024-02-21 15:26:34.694223: W tensorflow/stream_executor/platform/default/dso_loader.cc:64] Could not load dynamic library 'libnvinfer.so.7'; dlerror: libnvinfer.so.7: cannot open shared object file: No such file or directory; LD_LIBRARY_PATH: /usr/local/cuda-11.2/lib64:\n",
      "2024-02-21 15:26:34.694285: W tensorflow/stream_executor/platform/default/dso_loader.cc:64] Could not load dynamic library 'libnvinfer_plugin.so.7'; dlerror: libnvinfer_plugin.so.7: cannot open shared object file: No such file or directory; LD_LIBRARY_PATH: /usr/local/cuda-11.2/lib64:\n",
      "2024-02-21 15:26:34.694290: W tensorflow/compiler/tf2tensorrt/utils/py_utils.cc:38] TF-TRT Warning: Cannot dlopen some TensorRT libraries. If you would like to use Nvidia GPU with TensorRT, please make sure the missing libraries mentioned above are installed properly.\n"
     ]
    }
   ],
   "source": [
    "import numpy as np\n",
    "from keras.models import load_model\n",
    "from tensorflow.keras.layers import Input, Dense\n",
    "from tensorflow.keras.models import Model\n",
    "import tensorflow as tf\n",
    "import random"
   ]
  },
  {
   "cell_type": "code",
   "execution_count": 2,
   "metadata": {},
   "outputs": [
    {
     "name": "stderr",
     "output_type": "stream",
     "text": [
      "2024-02-21 15:26:35.252511: I tensorflow/stream_executor/cuda/cuda_gpu_executor.cc:980] successful NUMA node read from SysFS had negative value (-1), but there must be at least one NUMA node, so returning NUMA node zero\n",
      "2024-02-21 15:26:35.256036: I tensorflow/stream_executor/cuda/cuda_gpu_executor.cc:980] successful NUMA node read from SysFS had negative value (-1), but there must be at least one NUMA node, so returning NUMA node zero\n",
      "2024-02-21 15:26:35.256148: I tensorflow/stream_executor/cuda/cuda_gpu_executor.cc:980] successful NUMA node read from SysFS had negative value (-1), but there must be at least one NUMA node, so returning NUMA node zero\n",
      "2024-02-21 15:26:35.256506: I tensorflow/core/platform/cpu_feature_guard.cc:193] This TensorFlow binary is optimized with oneAPI Deep Neural Network Library (oneDNN) to use the following CPU instructions in performance-critical operations:  AVX2 FMA\n",
      "To enable them in other operations, rebuild TensorFlow with the appropriate compiler flags.\n",
      "2024-02-21 15:26:35.257662: I tensorflow/stream_executor/cuda/cuda_gpu_executor.cc:980] successful NUMA node read from SysFS had negative value (-1), but there must be at least one NUMA node, so returning NUMA node zero\n",
      "2024-02-21 15:26:35.258035: I tensorflow/stream_executor/cuda/cuda_gpu_executor.cc:980] successful NUMA node read from SysFS had negative value (-1), but there must be at least one NUMA node, so returning NUMA node zero\n",
      "2024-02-21 15:26:35.258127: I tensorflow/stream_executor/cuda/cuda_gpu_executor.cc:980] successful NUMA node read from SysFS had negative value (-1), but there must be at least one NUMA node, so returning NUMA node zero\n",
      "2024-02-21 15:26:35.656965: I tensorflow/stream_executor/cuda/cuda_gpu_executor.cc:980] successful NUMA node read from SysFS had negative value (-1), but there must be at least one NUMA node, so returning NUMA node zero\n",
      "2024-02-21 15:26:35.657169: I tensorflow/stream_executor/cuda/cuda_gpu_executor.cc:980] successful NUMA node read from SysFS had negative value (-1), but there must be at least one NUMA node, so returning NUMA node zero\n",
      "2024-02-21 15:26:35.657268: I tensorflow/stream_executor/cuda/cuda_gpu_executor.cc:980] successful NUMA node read from SysFS had negative value (-1), but there must be at least one NUMA node, so returning NUMA node zero\n",
      "2024-02-21 15:26:35.657359: I tensorflow/core/common_runtime/gpu/gpu_device.cc:1616] Created device /job:localhost/replica:0/task:0/device:GPU:0 with 7726 MB memory:  -> device: 0, name: NVIDIA GeForce RTX 3080, pci bus id: 0000:09:00.0, compute capability: 8.6\n"
     ]
    }
   ],
   "source": [
    "model2 = tf.keras.models.load_model('CVE2023-v2.h5')\n",
    "model1 = tf.keras.models.load_model('CVE2023.h5')\n",
    "model3 = tf.keras.models.load_model('CVE2023-v3.h5')\n"
   ]
  },
  {
   "cell_type": "code",
   "execution_count": 63,
   "metadata": {},
   "outputs": [
    {
     "name": "stdout",
     "output_type": "stream",
     "text": [
      "Model: \"sequential_3\"\n",
      "_________________________________________________________________\n",
      " Layer (type)                Output Shape              Param #   \n",
      "=================================================================\n",
      " dense_11 (Dense)            (None, 1000)              4000      \n",
      "                                                                 \n",
      " dense_12 (Dense)            (None, 500)               500500    \n",
      "                                                                 \n",
      " dense_13 (Dense)            (None, 250)               125250    \n",
      "                                                                 \n",
      " dense_14 (Dense)            (None, 1)                 251       \n",
      "                                                                 \n",
      "=================================================================\n",
      "Total params: 630,001\n",
      "Trainable params: 630,001\n",
      "Non-trainable params: 0\n",
      "_________________________________________________________________\n"
     ]
    }
   ],
   "source": [
    "#model1.summary()\n",
    "#model2.summary()\n",
    "model3.summary()"
   ]
  },
  {
   "cell_type": "code",
   "execution_count": 4,
   "metadata": {},
   "outputs": [
    {
     "name": "stdout",
     "output_type": "stream",
     "text": [
      "0.4294967295\n"
     ]
    }
   ],
   "source": [
    "import math\n",
    "n = 4294967295\n",
    "print(n/10**int(math.log10(n)+1))"
   ]
  },
  {
   "cell_type": "code",
   "execution_count": 36,
   "metadata": {},
   "outputs": [],
   "source": [
    "def test_overflow(input):\n",
    "    #print(input[0])\n",
    "    if input[0] > 4294967295:\n",
    "        return 1\n",
    "    else:\n",
    "        return 0\n",
    "def run_test(input1,input2,size):\n",
    "    suss = 0\n",
    "    for i in range(0,size):\n",
    "        if(test_overflow(input1[i]) == test_overflow(input2[i])):\n",
    "            suss = suss+ 1\n",
    "        #else:\n",
    "            #print(input1[i],input2[i])\n",
    "    return suss\n",
    "def get_int_rand(n):\n",
    "    result1=[]\n",
    "    result2=[]\n",
    "    result3=[]\n",
    "    result4=[]\n",
    "    #print(n)\n",
    "    for i in range(0,n):\n",
    "        ratio1 = random.randint(1,10)\n",
    "        ratio2 = random.randint(1,10)\n",
    "        ratio3 = random.randint(1,10)\n",
    "        int1 = random.randint(1,10**ratio1)\n",
    "        int2 = random.randint(1,10**ratio2)\n",
    "        int3 = random.randint(1,10**ratio3)\n",
    "        result4 +=[[int1,int2,int3]]\n",
    "        result3 +=[[int(math.log10(int1)+1) + int(math.log10(int2)+1) +int(math.log10(int3)+1)]]\n",
    "        result2 +=[[int1*int2*int3]]\n",
    "        int1 = int1/10**int(math.log10(int1)+1)\n",
    "        int2 = int2/10**int(math.log10(int2)+1)\n",
    "        int3 = int3/10**int(math.log10(int3)+1)\n",
    "        result1 +=[[int1,int2,int3]]\n",
    "    return np.array(result1),np.array(result2),np.array(result3),np.array(result4)\n",
    "\n",
    "def input_num(int1,int2,int3):\n",
    "    result1=[]\n",
    "    result2=[]\n",
    "    result3=[]\n",
    "    result4=[]\n",
    "    result4 +=[[int1,int2,int3]]\n",
    "    result3 +=[[int(math.log10(int1)+1) + int(math.log10(int2)+1) +int(math.log10(int3)+1)]]\n",
    "    result2 +=[[int1*int2*int3]]\n",
    "    int1 = int1/10**int(math.log10(int1)+1)\n",
    "    int2 = int2/10**int(math.log10(int2)+1)\n",
    "    int3 = int3/10**int(math.log10(int3)+1)\n",
    "    result1 +=[[int1,int2,int3]]\n",
    "    return np.array(result1),np.array(result2),np.array(result3),np.array(result4)"
   ]
  },
  {
   "cell_type": "code",
   "execution_count": 29,
   "metadata": {},
   "outputs": [],
   "source": [
    "from decimal import Decimal, getcontext\n",
    "getcontext().prec = 50\n",
    "def int_rand_test (constx):\n",
    "    x , ans, offset, x2= get_int_rand(constx)\n",
    "    \n",
    "    #x , ans, offset, x2= input_num(int1,int2,int3)\n",
    "    x2 = np.sort(x2, axis=-1)[:, ::-1]\n",
    "    print(x2)\n",
    "    print(\"x = \",x)\n",
    "    #print(offset)\n",
    "    z=[]\n",
    "    y = model1.predict(x)\n",
    "    y2 = model2.predict(x2)\n",
    "    y3 = model3.predict(x2)\n",
    "    pass_y1 = 0\n",
    "    pass_y2 = 0\n",
    "    pass_y3 = 0\n",
    "    for i in range(0,constx):\n",
    "        #z = y[i]* (10**offset[i])\n",
    "        off = float(Decimal('10') **offset[i])\n",
    "        z +=[[y[i]*off]]\n",
    "        #print(z[i], ans[i],int(math.log10(z[i][0])),int(math.log10(ans[i])))\n",
    "    for i in range(0,constx):\n",
    "        if(y2[i] >= 0.2 and ans[i] >= 4294967295):\n",
    "            pass_y2 += 1\n",
    "        elif(y2[i] < 0.2 and ans[i] < 4294967295):\n",
    "            pass_y2 += 1\n",
    "    for i in range(0,constx):\n",
    "        if(y3[i] >= 0.2 and ans[i] >= 4294967295):\n",
    "            pass_y3 += 1\n",
    "        elif(y3[i] < 0.2 and ans[i] < 4294967295):\n",
    "            pass_y3 += 1\n",
    "    pass_y1 = run_test(z,ans,constx)\n",
    "    print(\"pass case of model1's number == \",pass_y1)\n",
    "    print(\"pass case of model2's number == \",pass_y2)\n",
    "    print(\"pass case of model3's number == \",pass_y3)\n",
    "    return pass_y1,pass_y2,pass_y3\n"
   ]
  },
  {
   "cell_type": "code",
   "execution_count": 7,
   "metadata": {},
   "outputs": [
    {
     "name": "stdout",
     "output_type": "stream",
     "text": [
      "1/1 [==============================] - 1s 531ms/step\n"
     ]
    },
    {
     "name": "stderr",
     "output_type": "stream",
     "text": [
      "2024-02-21 15:26:37.417473: I tensorflow/stream_executor/cuda/cuda_blas.cc:1614] TensorFloat-32 will be used for the matrix multiplication. This will only be logged once.\n"
     ]
    },
    {
     "data": {
      "text/plain": [
       "array([[0.00161014]], dtype=float32)"
      ]
     },
     "execution_count": 7,
     "metadata": {},
     "output_type": "execute_result"
    }
   ],
   "source": [
    "model1.predict(np.array([[0.1,0.1,0.1]]))"
   ]
  },
  {
   "cell_type": "code",
   "execution_count": 30,
   "metadata": {},
   "outputs": [
    {
     "name": "stdout",
     "output_type": "stream",
     "text": [
      "[[9668671788  561856111        644]\n",
      " [4817614460 2680758435   34974205]\n",
      " [ 768413313   59285050      13514]\n",
      " [ 270420032      48641       4875]\n",
      " [ 326944216   32085143     181076]\n",
      " [ 220925852    5878929        402]\n",
      " [7778128593    4415167       7561]\n",
      " [  11192573         22          4]\n",
      " [ 780736020     546891         83]\n",
      " [ 148717002    5102780        816]]\n",
      "x =  [[0.96686718 0.56185611 0.644     ]\n",
      " [0.34974205 0.26807584 0.48176145]\n",
      " [0.13514    0.5928505  0.76841331]\n",
      " [0.27042003 0.4875     0.48641   ]\n",
      " [0.32694422 0.181076   0.32085143]\n",
      " [0.22092585 0.5878929  0.402     ]\n",
      " [0.7561     0.4415167  0.77781286]\n",
      " [0.11192573 0.4        0.22      ]\n",
      " [0.546891   0.78073602 0.83      ]\n",
      " [0.816      0.148717   0.510278  ]]\n",
      "1/1 [==============================] - 0s 16ms/step\n"
     ]
    },
    {
     "name": "stdout",
     "output_type": "stream",
     "text": [
      "1/1 [==============================] - 0s 15ms/step\n",
      "1/1 [==============================] - 0s 16ms/step\n",
      "pass case of model1's number ==  10\n",
      "pass case of model2's number ==  9\n",
      "pass case of model3's number ==  9\n"
     ]
    },
    {
     "name": "stderr",
     "output_type": "stream",
     "text": [
      "/tmp/ipykernel_195903/4131390466.py:18: DeprecationWarning: Conversion of an array with ndim > 0 to a scalar is deprecated, and will error in future. Ensure you extract a single element from your array before performing this operation. (Deprecated NumPy 1.25.)\n",
      "  off = float(Decimal('10') **offset[i])\n"
     ]
    }
   ],
   "source": [
    "pass_y1, pass_y2, pass_y3 = int_rand_test(10000000)"
   ]
  },
  {
   "cell_type": "code",
   "execution_count": 18,
   "metadata": {},
   "outputs": [
    {
     "name": "stdout",
     "output_type": "stream",
     "text": [
      "Model 1 correctness: 99.97475999999999%\n",
      "Model 2 correctness: 86.10601%\n",
      "Model 3 correctness: 86.10601%\n"
     ]
    }
   ],
   "source": [
    "\n",
    "\n",
    "print(f\"Model 1 correctness: {9997476 / 10000000 * 100}%\")\n",
    "print(f\"Model 2 correctness: {8610601 / 10000000 * 100}%\")\n",
    "print(f\"Model 3 correctness: {8610601 / 10000000 * 100}%\")\n"
   ]
  },
  {
   "cell_type": "code",
   "execution_count": null,
   "metadata": {},
   "outputs": [],
   "source": []
  },
  {
   "cell_type": "code",
   "execution_count": 59,
   "metadata": {},
   "outputs": [
    {
     "name": "stdout",
     "output_type": "stream",
     "text": [
      "1/1 [==============================] - 0s 17ms/step\n",
      "1/1 [==============================] - 0s 16ms/step\n",
      "1/1 [==============================] - 0s 16ms/step\n",
      "input = 4294967195 4294967290 2849931574\n",
      "[array([5.28572e+28], dtype=float32)] [5.25719571e+28]\n",
      "predict overflow\treal overflow\n",
      "predict overflow\treal overflow\n"
     ]
    },
    {
     "name": "stderr",
     "output_type": "stream",
     "text": [
      "/tmp/ipykernel_195903/1574605883.py:22: DeprecationWarning: Conversion of an array with ndim > 0 to a scalar is deprecated, and will error in future. Ensure you extract a single element from your array before performing this operation. (Deprecated NumPy 1.25.)\n",
      "  off = float(Decimal('10') **offset[i])\n"
     ]
    }
   ],
   "source": [
    "UINT_MAX = 4294967295.0\n",
    "#normal input\n",
    "input1 = np.array([[UINT_MAX-1,UINT_MAX,2147483648.0]])\n",
    "\n",
    "#problem input\n",
    "input2 = np.array([[UINT_MAX,UINT_MAX,2147483648.0]])\n",
    "input3 = np.array([[UINT_MAX-100,UINT_MAX-5,2849931574.0]])\n",
    "x, ans, offset, x2 = input_num(input3[0][0],input3[0][1],input3[0][2])\n",
    "\n",
    "x2 = np.sort(x2, axis=-1)[:, ::-1]\n",
    "z=[]\n",
    "y = model1.predict(x)\n",
    "y2 = model2.predict(x2)\n",
    "y3 = model3.predict(x2)\n",
    "pass_y1 = 0\n",
    "pass_y2 = 0\n",
    "pass_y3 = 0\n",
    "#print(\"input = \",input2)\n",
    "print(\"input = {:.0f}\".format(input3[0][0]),\"{:.0f}\".format(input3[0][1]),\"{:.0f}\".format(input3[0][2]))\n",
    "for i in range(0,1):\n",
    "    #z = y[i]* (10**offset[i])\n",
    "    off = float(Decimal('10') **offset[i])\n",
    "    z +=[[y[i]*off]]\n",
    "    print(z[i], ans[i])\n",
    "    run_test(z,ans,1)\n",
    "for i in range(0,1):\n",
    "    if(y2[i] >= 0.5):\n",
    "        print(\"predict overflow\",end=\"\\t\")\n",
    "    elif(y2[i] < 0.5 ):\n",
    "        print(\"predict not overflow\",end=\"\\t\")\n",
    "    if(ans[i] >= 4294967295):\n",
    "        print(\"real overflow\")\n",
    "    else:\n",
    "        print(\"real not overflow\")\n",
    "for i in range(0,1):\n",
    "    if(y2[i] >= 0.5):\n",
    "        print(\"predict overflow\",end=\"\\t\")\n",
    "    elif(y2[i] < 0.5 ):\n",
    "        print(\"predict not overflow\",end=\"\\t\")\n",
    "    if(ans[i] >= 4294967295):\n",
    "        print(\"real overflow\")\n",
    "    else:\n",
    "        print(\"real not overflow\")\n"
   ]
  }
 ],
 "metadata": {
  "kernelspec": {
   "display_name": "tf",
   "language": "python",
   "name": "python3"
  },
  "language_info": {
   "codemirror_mode": {
    "name": "ipython",
    "version": 3
   },
   "file_extension": ".py",
   "mimetype": "text/x-python",
   "name": "python",
   "nbconvert_exporter": "python",
   "pygments_lexer": "ipython3",
   "version": "3.9.17"
  }
 },
 "nbformat": 4,
 "nbformat_minor": 2
}
