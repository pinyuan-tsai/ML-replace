{
 "cells": [
  {
   "cell_type": "code",
   "execution_count": 92,
   "metadata": {},
   "outputs": [
    {
     "name": "stdout",
     "output_type": "stream",
     "text": [
      "[6 8 9 ... 8 8 4]\n"
     ]
    }
   ],
   "source": [
    "import numpy as np\n",
    "import math\n",
    "# x = random from 1 to 4294967295, 2 columns\n",
    "origin_data =[]\n",
    "data_x = []\n",
    "offset = []\n",
    "data_size = 1000000\n",
    "for i in range(data_size):\n",
    "    #random 1 to 10\n",
    "    x = np.random.randint(1, 10)\n",
    "    y = np.random.randint(1, 10)\n",
    "    x = np.random.randint(1, 10**x)\n",
    "    y = np.random.randint(1, 10**y)\n",
    "    off = max(int(math.log10(x)+1), int(math.log10(y)+1))\n",
    "    offset.append(off)\n",
    "    #data.first should >= data.second\n",
    "    if x < y:\n",
    "        x, y = y, x\n",
    "    origin_data.append([x, y])\n",
    "    data_x.append([x/10**off, y/10**off])\n",
    "offset = np.array(offset)\n",
    "print(offset)\n",
    "#print(data_x)\n",
    "#print(origin_data)\n",
    "#normalize data\n",
    "data_x = np.array(data_x)\n",
    "#data_y = data_x.first + data_x.second\n",
    "data_y = np.sum(data_x, axis=1)\n",
    "#print(data_x)\n",
    "#print(data_y)\n",
    "# data_x = np.random.randint(1, 4294967295, (1000000, 2))\n",
    "# data_y = np.sum(x, axis=1)\n",
    "# #normalize data\n",
    "# data_x = data_x / 4294967295\n",
    "# data_y = data_y / 4294967295\n",
    "# #count y < 4294967295\n",
    "# print(np.sum(y < 4294967295))\n",
    "# #print size of x\n",
    "# print(data_x)\n",
    "\n",
    "\n",
    "\n"
   ]
  },
  {
   "cell_type": "code",
   "execution_count": 93,
   "metadata": {},
   "outputs": [
    {
     "name": "stdout",
     "output_type": "stream",
     "text": [
      "[[2.56924000e-01 1.75300000e-03]\n",
      " [2.27966170e-01 6.75570000e-04]\n",
      " [8.46549872e-01 5.00000000e-09]\n",
      " ...\n",
      " [2.37133480e-01 3.38441900e-02]\n",
      " [2.04627200e-01 7.35900000e-05]\n",
      " [2.10300000e-01 1.85400000e-01]]\n",
      "[0.258677   0.22864174 0.84654988 ... 0.27097767 0.20470079 0.3957    ]\n"
     ]
    }
   ],
   "source": [
    "print(data_x)\n",
    "print(data_y)"
   ]
  },
  {
   "cell_type": "code",
   "execution_count": 57,
   "metadata": {},
   "outputs": [],
   "source": [
    "from keras import backend as K\n",
    "def mean_absolute_percentage_error(y_true, y_pred):\n",
    "    \"\"\"\n",
    "    计算平均绝对百分比误差（MAPR）\n",
    "    \"\"\"\n",
    "    diff = K.abs((y_true - y_pred) / K.clip(K.abs(y_true), K.epsilon(), None))\n",
    "    return 100. * K.mean(diff, axis=-1)"
   ]
  },
  {
   "cell_type": "code",
   "execution_count": 94,
   "metadata": {},
   "outputs": [
    {
     "name": "stdout",
     "output_type": "stream",
     "text": [
      "Model: \"sequential_8\"\n",
      "_________________________________________________________________\n",
      " Layer (type)                Output Shape              Param #   \n",
      "=================================================================\n",
      " dense_24 (Dense)            (None, 1024)              3072      \n",
      "                                                                 \n",
      " dense_25 (Dense)            (None, 512)               524800    \n",
      "                                                                 \n",
      " dense_26 (Dense)            (None, 256)               131328    \n",
      "                                                                 \n",
      " dense_27 (Dense)            (None, 1)                 257       \n",
      "                                                                 \n",
      "=================================================================\n",
      "Total params: 659,457\n",
      "Trainable params: 659,457\n",
      "Non-trainable params: 0\n",
      "_________________________________________________________________\n"
     ]
    }
   ],
   "source": [
    "from keras.models import Sequential\n",
    "from keras.layers import Dense\n",
    "\n",
    "# Create the model\n",
    "model = Sequential()\n",
    "\n",
    "# Add the first hidden layer\n",
    "model.add(Dense(1024, activation='relu', input_shape=(2,)))\n",
    "\n",
    "# Add the second hidden layer\n",
    "model.add(Dense(512, activation='relu'))\n",
    "\n",
    "# Add the third hidden layer\n",
    "model.add(Dense(256, activation='relu'))\n",
    "\n",
    "# Add the output layer\n",
    "model.add(Dense(1))\n",
    "\n",
    "# Compile the model\n",
    "model.compile(optimizer='adam', loss='mean_squared_error', metrics = ['MSE'])\n",
    "\n",
    "# Print the model summary\n",
    "model.summary()\n"
   ]
  },
  {
   "cell_type": "code",
   "execution_count": 95,
   "metadata": {},
   "outputs": [
    {
     "name": "stdout",
     "output_type": "stream",
     "text": [
      "Training set shape: (800000, 2)\n",
      "Testing set shape: (200000, 2)\n",
      "[[6.57300000e-01 9.19000000e-02]\n",
      " [9.74099300e-01 8.63500000e-05]\n",
      " [8.10640000e-01 6.00000000e-05]\n",
      " ...\n",
      " [7.69900000e-01 8.70000000e-03]\n",
      " [4.74345000e-01 4.35496000e-01]\n",
      " [4.36543054e-01 6.92000000e-06]]\n"
     ]
    }
   ],
   "source": [
    "from sklearn.model_selection import train_test_split\n",
    "\n",
    "# Split the data into training and testing sets\n",
    "x_train, x_test, y_train, y_test = train_test_split(data_x,data_y, test_size=0.2, random_state=42)\n",
    "\n",
    "# Print the shapes of the training and testing sets\n",
    "print(\"Training set shape:\", x_train.shape)\n",
    "print(\"Testing set shape:\", x_test.shape)\n",
    "print(x_train)"
   ]
  },
  {
   "cell_type": "code",
   "execution_count": 96,
   "metadata": {},
   "outputs": [
    {
     "name": "stdout",
     "output_type": "stream",
     "text": [
      "Epoch 1/10\n"
     ]
    },
    {
     "name": "stdout",
     "output_type": "stream",
     "text": [
      "25000/25000 [==============================] - 34s 1ms/step - loss: 7.8884e-05 - MSE: 7.8884e-05\n",
      "Epoch 2/10\n",
      "25000/25000 [==============================] - 34s 1ms/step - loss: 6.1995e-06 - MSE: 6.1995e-06\n",
      "Epoch 3/10\n",
      "25000/25000 [==============================] - 34s 1ms/step - loss: 3.8103e-06 - MSE: 3.8103e-06\n",
      "Epoch 4/10\n",
      "25000/25000 [==============================] - 34s 1ms/step - loss: 3.3968e-06 - MSE: 3.3968e-06\n",
      "Epoch 5/10\n",
      "25000/25000 [==============================] - 34s 1ms/step - loss: 2.4040e-06 - MSE: 2.4040e-06\n",
      "Epoch 6/10\n",
      "25000/25000 [==============================] - 34s 1ms/step - loss: 2.1271e-06 - MSE: 2.1271e-06\n",
      "Epoch 7/10\n",
      "25000/25000 [==============================] - 34s 1ms/step - loss: 2.1735e-06 - MSE: 2.1735e-06\n",
      "Epoch 8/10\n",
      "25000/25000 [==============================] - 34s 1ms/step - loss: 1.8213e-06 - MSE: 1.8213e-06\n",
      "Epoch 9/10\n",
      "25000/25000 [==============================] - 34s 1ms/step - loss: 1.7789e-06 - MSE: 1.7789e-06\n",
      "Epoch 10/10\n",
      "25000/25000 [==============================] - 34s 1ms/step - loss: 1.5235e-06 - MSE: 1.5235e-06\n"
     ]
    },
    {
     "data": {
      "text/plain": [
       "<keras.callbacks.History at 0x7fba4e1c0850>"
      ]
     },
     "execution_count": 96,
     "metadata": {},
     "output_type": "execute_result"
    }
   ],
   "source": [
    "model.fit(x_train, y_train, epochs=10, batch_size=32)\n"
   ]
  },
  {
   "cell_type": "code",
   "execution_count": 101,
   "metadata": {},
   "outputs": [
    {
     "name": "stdout",
     "output_type": "stream",
     "text": [
      "   1/6250 [..............................] - ETA: 1:05"
     ]
    },
    {
     "name": "stdout",
     "output_type": "stream",
     "text": [
      "6250/6250 [==============================] - 5s 777us/step\n"
     ]
    }
   ],
   "source": [
    "#predict\n",
    "y_pred = model.predict(x_test)\n",
    "\n",
    "#print(y_pred - y_test)\n"
   ]
  },
  {
   "cell_type": "code",
   "execution_count": 102,
   "metadata": {},
   "outputs": [
    {
     "name": "stdout",
     "output_type": "stream",
     "text": [
      "[[0.00045705]\n",
      " [0.00092691]\n",
      " [0.00142419]\n",
      " ...\n",
      " [0.00108814]\n",
      " [0.00108433]\n",
      " [0.00054994]]\n"
     ]
    }
   ],
   "source": [
    "diff=[]\n",
    "for i in range(y_pred.shape[0]):\n",
    "    diff.append(abs(y_pred[i] - y_test[i]))\n",
    "    #print(y_pred[i], y_test[i])\n",
    "diff = np.array(diff)\n",
    "print(diff)\n"
   ]
  },
  {
   "cell_type": "code",
   "execution_count": 105,
   "metadata": {},
   "outputs": [
    {
     "name": "stdout",
     "output_type": "stream",
     "text": [
      "67.597 %\n"
     ]
    }
   ],
   "source": [
    "#print struct of diff\n",
    "print(np.count_nonzero(diff < 0.001) / diff.shape[0] * 100, \"%\") "
   ]
  },
  {
   "cell_type": "code",
   "execution_count": 110,
   "metadata": {},
   "outputs": [
    {
     "name": "stdout",
     "output_type": "stream",
     "text": [
      "[0.85323 0.05323]\n",
      "1/1 [==============================] - 0s 11ms/step\n",
      "[[92712.664]]\n",
      "90646\n"
     ]
    }
   ],
   "source": [
    "input = np.array([85323,5323])\n",
    "output = np.sum(input)\n",
    "test_off = max(int(math.log10(input[0])+1), int(math.log10(input[1])+1))\n",
    "input = input/10**test_off\n",
    "print(input)\n",
    "print(model.predict(np.array([input])*10**test_off))\n",
    "print(output)"
   ]
  },
  {
   "cell_type": "code",
   "execution_count": 111,
   "metadata": {},
   "outputs": [],
   "source": [
    "model.save('cve-2020-24213-v1.h5')\n"
   ]
  }
 ],
 "metadata": {
  "kernelspec": {
   "display_name": "tf",
   "language": "python",
   "name": "python3"
  },
  "language_info": {
   "codemirror_mode": {
    "name": "ipython",
    "version": 3
   },
   "file_extension": ".py",
   "mimetype": "text/x-python",
   "name": "python",
   "nbconvert_exporter": "python",
   "pygments_lexer": "ipython3",
   "version": "3.9.17"
  }
 },
 "nbformat": 4,
 "nbformat_minor": 2
}
